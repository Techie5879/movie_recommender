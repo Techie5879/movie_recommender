{
 "cells": [
  {
   "cell_type": "code",
   "execution_count": 1,
   "metadata": {},
   "outputs": [],
   "source": [
    "import pandas as pd\n",
    "import numpy as np\n",
    "from sklearn.model_selection import train_test_split\n",
    "\n",
    "from surprise import Dataset, Reader, accuracy, SVD\n"
   ]
  },
  {
   "cell_type": "code",
   "execution_count": 2,
   "metadata": {},
   "outputs": [
    {
     "data": {
      "text/html": [
       "<div>\n",
       "<style scoped>\n",
       "    .dataframe tbody tr th:only-of-type {\n",
       "        vertical-align: middle;\n",
       "    }\n",
       "\n",
       "    .dataframe tbody tr th {\n",
       "        vertical-align: top;\n",
       "    }\n",
       "\n",
       "    .dataframe thead th {\n",
       "        text-align: right;\n",
       "    }\n",
       "</style>\n",
       "<table border=\"1\" class=\"dataframe\">\n",
       "  <thead>\n",
       "    <tr style=\"text-align: right;\">\n",
       "      <th></th>\n",
       "      <th>userId</th>\n",
       "      <th>movieId</th>\n",
       "      <th>rating</th>\n",
       "      <th>timestamp</th>\n",
       "    </tr>\n",
       "  </thead>\n",
       "  <tbody>\n",
       "    <tr>\n",
       "      <th>0</th>\n",
       "      <td>1</td>\n",
       "      <td>1</td>\n",
       "      <td>4.0</td>\n",
       "      <td>964982703</td>\n",
       "    </tr>\n",
       "    <tr>\n",
       "      <th>1</th>\n",
       "      <td>1</td>\n",
       "      <td>3</td>\n",
       "      <td>4.0</td>\n",
       "      <td>964981247</td>\n",
       "    </tr>\n",
       "    <tr>\n",
       "      <th>2</th>\n",
       "      <td>1</td>\n",
       "      <td>6</td>\n",
       "      <td>4.0</td>\n",
       "      <td>964982224</td>\n",
       "    </tr>\n",
       "    <tr>\n",
       "      <th>3</th>\n",
       "      <td>1</td>\n",
       "      <td>47</td>\n",
       "      <td>5.0</td>\n",
       "      <td>964983815</td>\n",
       "    </tr>\n",
       "    <tr>\n",
       "      <th>4</th>\n",
       "      <td>1</td>\n",
       "      <td>50</td>\n",
       "      <td>5.0</td>\n",
       "      <td>964982931</td>\n",
       "    </tr>\n",
       "  </tbody>\n",
       "</table>\n",
       "</div>"
      ],
      "text/plain": [
       "   userId  movieId  rating  timestamp\n",
       "0       1        1     4.0  964982703\n",
       "1       1        3     4.0  964981247\n",
       "2       1        6     4.0  964982224\n",
       "3       1       47     5.0  964983815\n",
       "4       1       50     5.0  964982931"
      ]
     },
     "execution_count": 2,
     "metadata": {},
     "output_type": "execute_result"
    }
   ],
   "source": [
    "ratings = pd.read_csv(\"ratings.csv\")\n",
    "ratings.head()"
   ]
  },
  {
   "cell_type": "code",
   "execution_count": 3,
   "metadata": {},
   "outputs": [
    {
     "data": {
      "text/html": [
       "<div>\n",
       "<style scoped>\n",
       "    .dataframe tbody tr th:only-of-type {\n",
       "        vertical-align: middle;\n",
       "    }\n",
       "\n",
       "    .dataframe tbody tr th {\n",
       "        vertical-align: top;\n",
       "    }\n",
       "\n",
       "    .dataframe thead th {\n",
       "        text-align: right;\n",
       "    }\n",
       "</style>\n",
       "<table border=\"1\" class=\"dataframe\">\n",
       "  <thead>\n",
       "    <tr style=\"text-align: right;\">\n",
       "      <th></th>\n",
       "      <th>userId</th>\n",
       "      <th>movieId</th>\n",
       "      <th>rating</th>\n",
       "    </tr>\n",
       "  </thead>\n",
       "  <tbody>\n",
       "    <tr>\n",
       "      <th>0</th>\n",
       "      <td>1</td>\n",
       "      <td>1</td>\n",
       "      <td>4.0</td>\n",
       "    </tr>\n",
       "    <tr>\n",
       "      <th>1</th>\n",
       "      <td>1</td>\n",
       "      <td>3</td>\n",
       "      <td>4.0</td>\n",
       "    </tr>\n",
       "    <tr>\n",
       "      <th>2</th>\n",
       "      <td>1</td>\n",
       "      <td>6</td>\n",
       "      <td>4.0</td>\n",
       "    </tr>\n",
       "    <tr>\n",
       "      <th>3</th>\n",
       "      <td>1</td>\n",
       "      <td>47</td>\n",
       "      <td>5.0</td>\n",
       "    </tr>\n",
       "    <tr>\n",
       "      <th>4</th>\n",
       "      <td>1</td>\n",
       "      <td>50</td>\n",
       "      <td>5.0</td>\n",
       "    </tr>\n",
       "    <tr>\n",
       "      <th>...</th>\n",
       "      <td>...</td>\n",
       "      <td>...</td>\n",
       "      <td>...</td>\n",
       "    </tr>\n",
       "    <tr>\n",
       "      <th>100831</th>\n",
       "      <td>610</td>\n",
       "      <td>166534</td>\n",
       "      <td>4.0</td>\n",
       "    </tr>\n",
       "    <tr>\n",
       "      <th>100832</th>\n",
       "      <td>610</td>\n",
       "      <td>168248</td>\n",
       "      <td>5.0</td>\n",
       "    </tr>\n",
       "    <tr>\n",
       "      <th>100833</th>\n",
       "      <td>610</td>\n",
       "      <td>168250</td>\n",
       "      <td>5.0</td>\n",
       "    </tr>\n",
       "    <tr>\n",
       "      <th>100834</th>\n",
       "      <td>610</td>\n",
       "      <td>168252</td>\n",
       "      <td>5.0</td>\n",
       "    </tr>\n",
       "    <tr>\n",
       "      <th>100835</th>\n",
       "      <td>610</td>\n",
       "      <td>170875</td>\n",
       "      <td>3.0</td>\n",
       "    </tr>\n",
       "  </tbody>\n",
       "</table>\n",
       "<p>100836 rows × 3 columns</p>\n",
       "</div>"
      ],
      "text/plain": [
       "        userId  movieId  rating\n",
       "0            1        1     4.0\n",
       "1            1        3     4.0\n",
       "2            1        6     4.0\n",
       "3            1       47     5.0\n",
       "4            1       50     5.0\n",
       "...        ...      ...     ...\n",
       "100831     610   166534     4.0\n",
       "100832     610   168248     5.0\n",
       "100833     610   168250     5.0\n",
       "100834     610   168252     5.0\n",
       "100835     610   170875     3.0\n",
       "\n",
       "[100836 rows x 3 columns]"
      ]
     },
     "execution_count": 3,
     "metadata": {},
     "output_type": "execute_result"
    }
   ],
   "source": [
    "df = ratings.drop(\"timestamp\", axis=1)\n",
    "df"
   ]
  },
  {
   "cell_type": "code",
   "execution_count": 4,
   "metadata": {},
   "outputs": [
    {
     "name": "stdout",
     "output_type": "stream",
     "text": [
      "Test set size:  (10084, 3)\n",
      "Validation set size :  (9076, 3)\n",
      "Training set size:  (81676, 3)\n"
     ]
    }
   ],
   "source": [
    "# using S_train = 80%, S_dev = 10%, S_test = 10%\n",
    "trainset, testset = train_test_split(df, test_size=0.1)\n",
    "\n",
    "print(\"Test set size: \", testset.shape)\n",
    "\n",
    "training, valset = train_test_split(trainset, test_size=0.1)\n",
    "\n",
    "print(\"Validation set size : \", valset.shape)\n",
    "print(\"Training set size: \", training.shape)"
   ]
  },
  {
   "cell_type": "code",
   "execution_count": 5,
   "metadata": {},
   "outputs": [],
   "source": [
    "reader = Reader(rating_scale = (1, 5))\n",
    "\n",
    "train_data = Dataset.load_from_df(training, reader)\n",
    "val_data = Dataset.load_from_df(valset, reader)\n",
    "test_data = Dataset.load_from_df(testset, reader)"
   ]
  },
  {
   "cell_type": "code",
   "execution_count": 6,
   "metadata": {},
   "outputs": [],
   "source": [
    "train_data = train_data.build_full_trainset()\n",
    "val_data = val_data.build_full_trainset()\n",
    "test_data = test_data.build_full_trainset()"
   ]
  },
  {
   "cell_type": "code",
   "execution_count": 7,
   "metadata": {},
   "outputs": [],
   "source": [
    "val_data = val_data.build_testset()\n",
    "test_data = test_data.build_testset()"
   ]
  },
  {
   "cell_type": "code",
   "execution_count": 8,
   "metadata": {},
   "outputs": [
    {
     "name": "stdout",
     "output_type": "stream",
     "text": [
      "[0.8706554367270425, 0.8716178038929369, 0.8708931553408468, 0.8709141262473133, 0.8696360076073671, 0.8676784355216187, 0.8713919816523402, 0.8707364425337059, 0.8712997626411186, 0.8701156140972122, 0.8690151878048915, 0.8716909691827773, 0.8702718240545058, 0.8700016042030735, 0.8697509326466418, 0.8689609045085197, 0.8710125434319774, 0.8708918477776573, 0.8700962213140853, 0.8710667021415142, 0.8709117284479786, 0.8694498309837835, 0.8695850530316718, 0.872410963136513, 0.8694329386973177, 0.8717059368642105, 0.8703633709346543, 0.872368090379602, 0.8693225741436846, 0.8691888264272146, 0.8717946360021606, 0.8725380167944922, 0.8676141318161071, 0.8712532686347592, 0.8702047332366324, 0.8699919013570836, 0.870240564704669, 0.8703457632251452, 0.8713759485930013, 0.8698516506959284, 0.8707550877927872, 0.8701533027923684, 0.8715490727539076, 0.8720521050564329, 0.8708126973529037, 0.8691461467851574, 0.8718125718227394, 0.8695921187329756, 0.8721394714001137, 0.8719545864279279, 0.8679508706910394, 0.8692347838473982, 0.872067552927199, 0.8701854213719254, 0.8699089563396049, 0.8719563234384622, 0.8717614388742437, 0.8698355643857257, 0.8717398195395936, 0.872015688796656, 0.8709375815587641, 0.8732065139543188, 0.8728199017988616, 0.8747881775184148, 0.8729624643165432, 0.8710939024423009, 0.8749982947730517, 0.8705921795392931, 0.8733874953651468, 0.8745161512760494, 0.8692125357957773, 0.869226150529691, 0.8715710129526106, 0.8743101934375029, 0.8737285726564177, 0.8715321058746859, 0.8724129170262249, 0.869403021153744, 0.8742520059258927, 0.8712294727001727, 0.8728065036676748, 0.8684902174293058, 0.8736664744660341, 0.8723544476506339, 0.8717733437884385, 0.8683138827184241, 0.8728847682906479, 0.8706822262224337, 0.8708240732231824, 0.8735624116402704, 0.8734888855872516, 0.8733174777921748, 0.8752910748363132, 0.8723376775230907, 0.8684527020519508, 0.8745037665822591, 0.8751553507342144, 0.874424992161351, 0.8704335453924075, 0.8713036931742113]\n"
     ]
    }
   ],
   "source": [
    "list1 = []\n",
    "\n",
    "# Training using 1 to 100 factors on S_train and checking RMSE values on S_dev to get optimal number of factors\n",
    "for factors in range(1, 101):\n",
    "    algo = SVD(n_factors=factors)\n",
    "    algo.fit(train_data)\n",
    "    predictions = algo.test(val_data)\n",
    "    acc_values = accuracy.rmse(predictions, verbose=False)\n",
    "    list1.append(acc_values)\n",
    "\n",
    "print(list1)\n"
   ]
  },
  {
   "cell_type": "code",
   "execution_count": 9,
   "metadata": {},
   "outputs": [
    {
     "name": "stdout",
     "output_type": "stream",
     "text": [
      "33\n"
     ]
    }
   ],
   "source": [
    "# Number of factors [optimal] (gives lowest RMSE on validation set S_dev)\n",
    "opt_factors = list1.index(min(list1)) + 1\n",
    "print(opt_factors)"
   ]
  },
  {
   "cell_type": "code",
   "execution_count": 10,
   "metadata": {},
   "outputs": [
    {
     "data": {
      "text/plain": [
       "<surprise.prediction_algorithms.matrix_factorization.SVD at 0x1e06649b5b0>"
      ]
     },
     "execution_count": 10,
     "metadata": {},
     "output_type": "execute_result"
    }
   ],
   "source": [
    "# Now training on train_data using optimal number of factors\n",
    "final_algo = SVD(n_factors=opt_factors)\n",
    "final_algo.fit(train_data)"
   ]
  },
  {
   "cell_type": "code",
   "execution_count": 11,
   "metadata": {},
   "outputs": [
    {
     "name": "stdout",
     "output_type": "stream",
     "text": [
      "RMSE: 0.8679\n"
     ]
    },
    {
     "data": {
      "text/plain": [
       "0.8679028429127571"
      ]
     },
     "execution_count": 11,
     "metadata": {},
     "output_type": "execute_result"
    }
   ],
   "source": [
    "# Finally, predicting and calculating accuracy on test_data (S_test)\n",
    "pred_test = final_algo.test(test_data)\n",
    "accuracy.rmse(pred_test)"
   ]
  }
 ],
 "metadata": {
  "kernelspec": {
   "display_name": "Python 3.9.12 ('tf_gpu')",
   "language": "python",
   "name": "python3"
  },
  "language_info": {
   "codemirror_mode": {
    "name": "ipython",
    "version": 3
   },
   "file_extension": ".py",
   "mimetype": "text/x-python",
   "name": "python",
   "nbconvert_exporter": "python",
   "pygments_lexer": "ipython3",
   "version": "3.9.13"
  },
  "orig_nbformat": 4,
  "vscode": {
   "interpreter": {
    "hash": "6727180ec7706371f309a591245f258a273227390eee838732d970e81ce0dc77"
   }
  }
 },
 "nbformat": 4,
 "nbformat_minor": 2
}
