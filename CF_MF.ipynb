{
 "cells": [
  {
   "cell_type": "code",
   "execution_count": 1,
   "metadata": {},
   "outputs": [],
   "source": [
    "import pandas as pd\n",
    "import numpy as np\n",
    "from sklearn.model_selection import train_test_split\n",
    "\n",
    "from surprise import Dataset, Reader, accuracy, SVD\n"
   ]
  },
  {
   "cell_type": "code",
   "execution_count": 2,
   "metadata": {},
   "outputs": [
    {
     "data": {
      "text/html": [
       "<div>\n",
       "<style scoped>\n",
       "    .dataframe tbody tr th:only-of-type {\n",
       "        vertical-align: middle;\n",
       "    }\n",
       "\n",
       "    .dataframe tbody tr th {\n",
       "        vertical-align: top;\n",
       "    }\n",
       "\n",
       "    .dataframe thead th {\n",
       "        text-align: right;\n",
       "    }\n",
       "</style>\n",
       "<table border=\"1\" class=\"dataframe\">\n",
       "  <thead>\n",
       "    <tr style=\"text-align: right;\">\n",
       "      <th></th>\n",
       "      <th>userId</th>\n",
       "      <th>movieId</th>\n",
       "      <th>rating</th>\n",
       "      <th>timestamp</th>\n",
       "    </tr>\n",
       "  </thead>\n",
       "  <tbody>\n",
       "    <tr>\n",
       "      <th>0</th>\n",
       "      <td>1</td>\n",
       "      <td>1</td>\n",
       "      <td>4.0</td>\n",
       "      <td>964982703</td>\n",
       "    </tr>\n",
       "    <tr>\n",
       "      <th>1</th>\n",
       "      <td>1</td>\n",
       "      <td>3</td>\n",
       "      <td>4.0</td>\n",
       "      <td>964981247</td>\n",
       "    </tr>\n",
       "    <tr>\n",
       "      <th>2</th>\n",
       "      <td>1</td>\n",
       "      <td>6</td>\n",
       "      <td>4.0</td>\n",
       "      <td>964982224</td>\n",
       "    </tr>\n",
       "    <tr>\n",
       "      <th>3</th>\n",
       "      <td>1</td>\n",
       "      <td>47</td>\n",
       "      <td>5.0</td>\n",
       "      <td>964983815</td>\n",
       "    </tr>\n",
       "    <tr>\n",
       "      <th>4</th>\n",
       "      <td>1</td>\n",
       "      <td>50</td>\n",
       "      <td>5.0</td>\n",
       "      <td>964982931</td>\n",
       "    </tr>\n",
       "  </tbody>\n",
       "</table>\n",
       "</div>"
      ],
      "text/plain": [
       "   userId  movieId  rating  timestamp\n",
       "0       1        1     4.0  964982703\n",
       "1       1        3     4.0  964981247\n",
       "2       1        6     4.0  964982224\n",
       "3       1       47     5.0  964983815\n",
       "4       1       50     5.0  964982931"
      ]
     },
     "execution_count": 2,
     "metadata": {},
     "output_type": "execute_result"
    }
   ],
   "source": [
    "ratings = pd.read_csv(\"ratings.csv\")\n",
    "ratings.head()"
   ]
  },
  {
   "cell_type": "code",
   "execution_count": 3,
   "metadata": {},
   "outputs": [
    {
     "data": {
      "text/html": [
       "<div>\n",
       "<style scoped>\n",
       "    .dataframe tbody tr th:only-of-type {\n",
       "        vertical-align: middle;\n",
       "    }\n",
       "\n",
       "    .dataframe tbody tr th {\n",
       "        vertical-align: top;\n",
       "    }\n",
       "\n",
       "    .dataframe thead th {\n",
       "        text-align: right;\n",
       "    }\n",
       "</style>\n",
       "<table border=\"1\" class=\"dataframe\">\n",
       "  <thead>\n",
       "    <tr style=\"text-align: right;\">\n",
       "      <th></th>\n",
       "      <th>userId</th>\n",
       "      <th>movieId</th>\n",
       "      <th>rating</th>\n",
       "    </tr>\n",
       "  </thead>\n",
       "  <tbody>\n",
       "    <tr>\n",
       "      <th>0</th>\n",
       "      <td>1</td>\n",
       "      <td>1</td>\n",
       "      <td>4.0</td>\n",
       "    </tr>\n",
       "    <tr>\n",
       "      <th>1</th>\n",
       "      <td>1</td>\n",
       "      <td>3</td>\n",
       "      <td>4.0</td>\n",
       "    </tr>\n",
       "    <tr>\n",
       "      <th>2</th>\n",
       "      <td>1</td>\n",
       "      <td>6</td>\n",
       "      <td>4.0</td>\n",
       "    </tr>\n",
       "    <tr>\n",
       "      <th>3</th>\n",
       "      <td>1</td>\n",
       "      <td>47</td>\n",
       "      <td>5.0</td>\n",
       "    </tr>\n",
       "    <tr>\n",
       "      <th>4</th>\n",
       "      <td>1</td>\n",
       "      <td>50</td>\n",
       "      <td>5.0</td>\n",
       "    </tr>\n",
       "    <tr>\n",
       "      <th>...</th>\n",
       "      <td>...</td>\n",
       "      <td>...</td>\n",
       "      <td>...</td>\n",
       "    </tr>\n",
       "    <tr>\n",
       "      <th>100831</th>\n",
       "      <td>610</td>\n",
       "      <td>166534</td>\n",
       "      <td>4.0</td>\n",
       "    </tr>\n",
       "    <tr>\n",
       "      <th>100832</th>\n",
       "      <td>610</td>\n",
       "      <td>168248</td>\n",
       "      <td>5.0</td>\n",
       "    </tr>\n",
       "    <tr>\n",
       "      <th>100833</th>\n",
       "      <td>610</td>\n",
       "      <td>168250</td>\n",
       "      <td>5.0</td>\n",
       "    </tr>\n",
       "    <tr>\n",
       "      <th>100834</th>\n",
       "      <td>610</td>\n",
       "      <td>168252</td>\n",
       "      <td>5.0</td>\n",
       "    </tr>\n",
       "    <tr>\n",
       "      <th>100835</th>\n",
       "      <td>610</td>\n",
       "      <td>170875</td>\n",
       "      <td>3.0</td>\n",
       "    </tr>\n",
       "  </tbody>\n",
       "</table>\n",
       "<p>100836 rows × 3 columns</p>\n",
       "</div>"
      ],
      "text/plain": [
       "        userId  movieId  rating\n",
       "0            1        1     4.0\n",
       "1            1        3     4.0\n",
       "2            1        6     4.0\n",
       "3            1       47     5.0\n",
       "4            1       50     5.0\n",
       "...        ...      ...     ...\n",
       "100831     610   166534     4.0\n",
       "100832     610   168248     5.0\n",
       "100833     610   168250     5.0\n",
       "100834     610   168252     5.0\n",
       "100835     610   170875     3.0\n",
       "\n",
       "[100836 rows x 3 columns]"
      ]
     },
     "execution_count": 3,
     "metadata": {},
     "output_type": "execute_result"
    }
   ],
   "source": [
    "df = ratings.drop(\"timestamp\", axis=1)\n",
    "df"
   ]
  },
  {
   "cell_type": "code",
   "execution_count": 4,
   "metadata": {},
   "outputs": [
    {
     "name": "stdout",
     "output_type": "stream",
     "text": [
      "(5042, 3)\n"
     ]
    }
   ],
   "source": [
    "trainset, testset = train_test_split(df, test_size=0.05)\n",
    "\n",
    "print(testset.shape)"
   ]
  },
  {
   "cell_type": "code",
   "execution_count": 5,
   "metadata": {},
   "outputs": [
    {
     "name": "stdout",
     "output_type": "stream",
     "text": [
      "(91004, 3)\n",
      "(4790, 3)\n"
     ]
    }
   ],
   "source": [
    "training, valset = train_test_split(trainset, test_size=0.05)\n",
    "\n",
    "print(training.shape)\n",
    "print(valset.shape)"
   ]
  },
  {
   "cell_type": "code",
   "execution_count": 6,
   "metadata": {},
   "outputs": [],
   "source": [
    "reader = Reader(rating_scale = (1, 5))\n",
    "\n",
    "train_data = Dataset.load_from_df(training, reader)\n",
    "val_data = Dataset.load_from_df(valset, reader)\n",
    "test_data = Dataset.load_from_df(testset, reader)"
   ]
  },
  {
   "cell_type": "code",
   "execution_count": 7,
   "metadata": {},
   "outputs": [],
   "source": [
    "train_data = train_data.build_full_trainset()\n",
    "val_data = val_data.build_full_trainset()\n",
    "test_data = test_data.build_full_trainset()"
   ]
  },
  {
   "cell_type": "code",
   "execution_count": 8,
   "metadata": {},
   "outputs": [],
   "source": [
    "val_data = val_data.build_testset()\n",
    "test_data = test_data.build_testset()"
   ]
  },
  {
   "cell_type": "code",
   "execution_count": 9,
   "metadata": {},
   "outputs": [
    {
     "name": "stdout",
     "output_type": "stream",
     "text": [
      "[0.8699021616491726, 0.8708493844173502, 0.869115137195342, 0.8706247906044619, 0.8683682327289861, 0.8663650521154901, 0.8690330142351681, 0.8689856245667221, 0.8711799767444491, 0.8695719639954813, 0.86956841271716, 0.868773531502751, 0.8667602487016599, 0.8661527396316129, 0.8672801603068241, 0.8688893008462167, 0.8683793975966896, 0.8680351340065955, 0.8663384389479762, 0.8662693451322793, 0.8691427039478079, 0.868425329944009, 0.8710910373962533, 0.8654180250257706, 0.8660822259738816, 0.8713345529772276, 0.8694330205195522, 0.8647659938856499, 0.8710616546759765, 0.8682021839786248, 0.8706601014637462, 0.8697154529186663, 0.8647465465393213, 0.8677392991321122, 0.8646836454330612, 0.8665666540707497, 0.873624305831948, 0.8672158299459064, 0.8675485394290581, 0.8695312583983458, 0.8685768674647818, 0.8688730815719012, 0.8677126936414624, 0.8676769904141317, 0.870824777953473, 0.8766976431685655, 0.8699764625045032, 0.8654916894243779, 0.8696638792180398, 0.8696480643699769, 0.8698864874218171, 0.8664998070262957, 0.8678322029828237, 0.8699083382472498, 0.8658505633734475, 0.8654647060003475, 0.8671551008306184, 0.8682511965515554, 0.8700324256577394, 0.8687192619299201, 0.8688122623802014, 0.8671230878894763, 0.8699737838752482, 0.8684811063855052, 0.8655942530945782, 0.8717627659980499, 0.8712875241716271, 0.8711903866223395, 0.8648808546966328, 0.8686927061339161, 0.8677969985796886, 0.8724563689463196, 0.8726059612559482, 0.8679741505847383, 0.8705733457778247, 0.8672663988146481, 0.8692543419198284, 0.8748207897767668, 0.8664594919177261, 0.866997416248215, 0.8657792307983385, 0.8664005733027204, 0.8729172331408109, 0.8673710395899054, 0.871872878453718, 0.8681657651384522, 0.8680433630965879, 0.868223898256287, 0.8722972926090217, 0.8678702393921375, 0.8723123149674581, 0.8738796393002346, 0.8718517895711362, 0.8713388021389291, 0.8657789360947385, 0.8710309307021622, 0.8696243863897732, 0.8715751050044281, 0.8725590533922517, 0.8678505737183551]\n"
     ]
    }
   ],
   "source": [
    "list1 = []\n",
    "\n",
    "# Training using 1 to 100 factors on S_train and checking RMSE values on S_dev to get optimal number of factors\n",
    "for factors in range(1, 101):\n",
    "    algo = SVD(n_factors=factors)\n",
    "    algo.fit(train_data)\n",
    "    predictions = algo.test(val_data)\n",
    "    acc_values = accuracy.rmse(predictions, verbose=False)\n",
    "    list1.append(acc_values)\n",
    "\n",
    "print(list1)\n"
   ]
  },
  {
   "cell_type": "code",
   "execution_count": 10,
   "metadata": {},
   "outputs": [
    {
     "name": "stdout",
     "output_type": "stream",
     "text": [
      "35\n"
     ]
    }
   ],
   "source": [
    "# Number of factors [optimal] (gives lowest RMSE on validation set S_dev)\n",
    "opt_factors = list1.index(min(list1)) + 1\n",
    "print(opt_factors)"
   ]
  },
  {
   "cell_type": "code",
   "execution_count": 11,
   "metadata": {},
   "outputs": [
    {
     "data": {
      "text/plain": [
       "<surprise.prediction_algorithms.matrix_factorization.SVD at 0x202bcc66a30>"
      ]
     },
     "execution_count": 11,
     "metadata": {},
     "output_type": "execute_result"
    }
   ],
   "source": [
    "# Now training on train_data using optimal number of factors\n",
    "algo_f = SVD(n_factors=opt_factors)\n",
    "algo.fit(train_data)"
   ]
  },
  {
   "cell_type": "code",
   "execution_count": 12,
   "metadata": {},
   "outputs": [
    {
     "name": "stdout",
     "output_type": "stream",
     "text": [
      "RMSE: 0.8706\n"
     ]
    },
    {
     "data": {
      "text/plain": [
       "0.8706442809607582"
      ]
     },
     "execution_count": 12,
     "metadata": {},
     "output_type": "execute_result"
    }
   ],
   "source": [
    "# Finally, predicting and calculating accuracy on test_data (S_test)\n",
    "pred_test = algo.test(test_data)\n",
    "accuracy.rmse(pred_test)"
   ]
  }
 ],
 "metadata": {
  "kernelspec": {
   "display_name": "Python 3.9.12 ('tf_gpu')",
   "language": "python",
   "name": "python3"
  },
  "language_info": {
   "codemirror_mode": {
    "name": "ipython",
    "version": 3
   },
   "file_extension": ".py",
   "mimetype": "text/x-python",
   "name": "python",
   "nbconvert_exporter": "python",
   "pygments_lexer": "ipython3",
   "version": "3.9.13"
  },
  "orig_nbformat": 4,
  "vscode": {
   "interpreter": {
    "hash": "6727180ec7706371f309a591245f258a273227390eee838732d970e81ce0dc77"
   }
  }
 },
 "nbformat": 4,
 "nbformat_minor": 2
}
